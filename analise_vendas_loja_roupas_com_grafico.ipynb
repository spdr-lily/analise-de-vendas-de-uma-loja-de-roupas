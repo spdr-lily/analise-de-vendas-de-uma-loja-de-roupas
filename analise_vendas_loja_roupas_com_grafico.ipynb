{
 "cells": [
  {
   "cell_type": "markdown",
   "id": "091da180-e04e-4f45-9f26-98e78a0e7394",
   "metadata": {},
   "source": [
    "# Análise de dados de vendas de uma loja de roupas"
   ]
  },
  {
   "cell_type": "code",
   "execution_count": 120,
   "id": "760825db-127b-470d-8014-4078ccc55ead",
   "metadata": {},
   "outputs": [],
   "source": [
    "# ​​Analisar os dados de vendas de uma loja de roupas e apresentar um relatório que mostre a quantidade vendida, \n",
    "# o valor total arrecadado e o preço médio dos produtos vendidos em cada mês do ano. "
   ]
  },
  {
   "cell_type": "code",
   "execution_count": 122,
   "id": "543758b4-3bf0-4b06-b050-c36343b7effd",
   "metadata": {},
   "outputs": [],
   "source": [
    "# passo 1: importar as bibliotecas necessárias\n",
    "import pandas as pd\n",
    "import numpy as np\n",
    "import matplotlib.pyplot as plt"
   ]
  },
  {
   "cell_type": "code",
   "execution_count": 124,
   "id": "e8189ee6-b3fe-458b-8fab-7270074579bd",
   "metadata": {},
   "outputs": [],
   "source": [
    "# Lista com os nomes dos produtos\n",
    "nomes_produtos = ['Camisa Manga Longa', 'Camisa Gola Polo', 'Camiseta Básica', 'Calça Jeans', 'Sapato Social']"
   ]
  },
  {
   "cell_type": "code",
   "execution_count": 126,
   "id": "b510304d-69e0-4e1a-b0ec-e09d034f9a1a",
   "metadata": {},
   "outputs": [],
   "source": [
    "# Gerando DataFrame com 1000 linhas\n",
    "df = pd.DataFrame({\n",
    "    'ID Produto': np.random.randint(1, 11, 1000),\n",
    "    'Nome Produto': np.random.choice(nomes_produtos, 1000),\n",
    "    'Quantidade Vendida': np.random.randint(1, 21, 1000),\n",
    "    'Preço Unitario': np.round(np.random.uniform(10, 100, 1000), 2),\n",
    "    'Data da Venda': np.random.choice(pd.date_range(start='2021-01-01', end='2021-12-31'), 1000)\n",
    "})"
   ]
  },
  {
   "cell_type": "code",
   "execution_count": 128,
   "id": "d8205320-8e68-4b5c-a100-38aef77f0b8a",
   "metadata": {},
   "outputs": [],
   "source": [
    "# salvando o DataFrame em um arquivo CSV\n",
    "df.to_csv('vendas.csv', index=False)"
   ]
  },
  {
   "cell_type": "code",
   "execution_count": 130,
   "id": "c92d72c8-9588-42a9-8b3a-e344a08c94a2",
   "metadata": {},
   "outputs": [],
   "source": [
    "# carregando o arquivo CSV em um DataFrame\n",
    "df = pd.read_csv('vendas.csv')"
   ]
  },
  {
   "cell_type": "code",
   "execution_count": 132,
   "id": "32abcbc9-aa2e-42e6-9844-0c7e3ad278c7",
   "metadata": {},
   "outputs": [
    {
     "name": "stdout",
     "output_type": "stream",
     "text": [
      "        ID Produto  Quantidade Vendida  Preço Unitario\n",
      "count  1000.000000         1000.000000     1000.000000\n",
      "mean      5.475000           10.389000       54.864390\n",
      "std       2.823357            5.722099       25.892106\n",
      "min       1.000000            1.000000       10.080000\n",
      "25%       3.000000            5.000000       32.045000\n",
      "50%       5.000000           10.000000       55.190000\n",
      "75%       8.000000           15.250000       76.870000\n",
      "max      10.000000           20.000000       99.770000\n"
     ]
    }
   ],
   "source": [
    "# descrevendo o conjunto\n",
    "print(df.describe())"
   ]
  },
  {
   "cell_type": "code",
   "execution_count": 134,
   "id": "a4efef19-c217-4b1d-b4a8-6316bc2a19c3",
   "metadata": {},
   "outputs": [
    {
     "name": "stdout",
     "output_type": "stream",
     "text": [
      "0      3\n",
      "1      3\n",
      "2      4\n",
      "3      5\n",
      "4      7\n",
      "      ..\n",
      "995    2\n",
      "996    7\n",
      "997    6\n",
      "998    5\n",
      "999    2\n",
      "Name: ID Produto, Length: 1000, dtype: int64\n"
     ]
    }
   ],
   "source": [
    "# acessando colunas com .loc\n",
    "print(df.loc[:, 'ID Produto'])"
   ]
  },
  {
   "cell_type": "code",
   "execution_count": 136,
   "id": "4901548c-de8d-4b1d-86d1-c461ae47a7aa",
   "metadata": {},
   "outputs": [],
   "source": [
    "# usando map em uma coluna\n",
    "df['Nome Produto'] = df['Nome Produto'].map(lambda x: x.upper())"
   ]
  },
  {
   "cell_type": "code",
   "execution_count": 138,
   "id": "7f057b33-dd06-4e22-b421-d0d2c060eac0",
   "metadata": {},
   "outputs": [
    {
     "name": "stdout",
     "output_type": "stream",
     "text": [
      "Index(['ID Produto', 'Nome Produto', 'Quantidade Vendida', 'Preço Unitario',\n",
      "       'Data da Venda'],\n",
      "      dtype='object')\n",
      "     ID Produto      Nome Produto  Quantidade Vendida  Preço Unitario  \\\n",
      "743           9  CAMISA GOLA POLO                   7           99.77   \n",
      "891           6   CAMISETA BÁSICA                  19           99.74   \n",
      "878           7  CAMISA GOLA POLO                  18           99.60   \n",
      "415           4   CAMISETA BÁSICA                   1           99.54   \n",
      "198           7   CAMISETA BÁSICA                  18           99.53   \n",
      "\n",
      "    Data da Venda  \n",
      "743    2021-09-12  \n",
      "891    2021-02-06  \n",
      "878    2021-07-10  \n",
      "415    2021-08-28  \n",
      "198    2021-06-28  \n"
     ]
    }
   ],
   "source": [
    "# Verificando o nome das colunas\n",
    "print(df.columns)\n",
    "\n",
    "# Ordenando o DataFrame pela coluna 'Preço Unitário'\n",
    "df = df.sort_values(by='Preço Unitario', ascending=False)\n",
    "\n",
    "print(df.head())"
   ]
  },
  {
   "cell_type": "code",
   "execution_count": 140,
   "id": "b2b783b5-977c-4d6d-8ee5-fdef14b10f65",
   "metadata": {},
   "outputs": [
    {
     "name": "stdout",
     "output_type": "stream",
     "text": [
      "Index(['ID Produto', 'Nome Produto', 'Quantidade Vendida', 'Preço Unitario',\n",
      "       'Data da Venda'],\n",
      "      dtype='object')\n",
      "                    ID Produto  Quantidade Vendida  Preço Unitario\n",
      "Nome Produto                                                      \n",
      "CALÇA JEANS           5.416290           10.217195       53.074163\n",
      "CAMISA GOLA POLO      5.571429           10.647959       57.277296\n",
      "CAMISA MANGA LONGA    5.475248           10.415842       55.045347\n",
      "CAMISETA BÁSICA       5.401961           10.887255       52.923235\n",
      "SAPATO SOCIAL         5.525424            9.711864       56.458475\n"
     ]
    }
   ],
   "source": [
    "# Verificando o nome das colunas\n",
    "print(df.columns)\n",
    "\n",
    "# Selecionando apenas as colunas numéricas para calcular a média\n",
    "df_numeric = df.select_dtypes(include=[np.number])\n",
    "\n",
    "# Incluindo a coluna de agrupamento\n",
    "df_numeric['Nome Produto'] = df['Nome Produto']\n",
    "\n",
    "# Agrupando o DataFrame pela coluna 'Nome Produto' e calculando a média das colunas numéricas\n",
    "df_grouped = df_numeric.groupby('Nome Produto').mean()\n",
    "\n",
    "print(df_grouped)"
   ]
  },
  {
   "cell_type": "code",
   "execution_count": 142,
   "id": "765f326f-fab4-49dd-868e-580830d38a26",
   "metadata": {},
   "outputs": [],
   "source": [
    "# selecionando apenas as linhas do dataframe onde a coluna 'ID Produto' é igual a 2\n",
    "df = df.loc[df['ID Produto'] == 2]"
   ]
  },
  {
   "cell_type": "code",
   "execution_count": 144,
   "id": "54714b0c-a8ab-40b0-867e-af5cebad7a13",
   "metadata": {},
   "outputs": [],
   "source": [
    "# removendo duplicatas do dataframe\n",
    "df = df.drop_duplicates()"
   ]
  },
  {
   "cell_type": "code",
   "execution_count": 146,
   "id": "42532b83-20d5-4d9b-a5a7-ae641d12841e",
   "metadata": {},
   "outputs": [
    {
     "name": "stdout",
     "output_type": "stream",
     "text": [
      "353      CAMISA GOLA POLO\n",
      "503           CALÇA JEANS\n",
      "848      CAMISA GOLA POLO\n",
      "999       CAMISETA BÁSICA\n",
      "152       CAMISETA BÁSICA\n",
      "              ...        \n",
      "71     CAMISA MANGA LONGA\n",
      "429       CAMISETA BÁSICA\n",
      "888           CALÇA JEANS\n",
      "240         SAPATO SOCIAL\n",
      "816    CAMISA MANGA LONGA\n",
      "Name: Nome Produto, Length: 101, dtype: object\n"
     ]
    }
   ],
   "source": [
    "# acessando colunas usando iloc\n",
    "print(df.iloc[:, 1])"
   ]
  },
  {
   "cell_type": "code",
   "execution_count": 148,
   "id": "b8db68f4-6c24-4e7e-bd9b-3e72179e16a6",
   "metadata": {},
   "outputs": [],
   "source": [
    "# calculando a média de vendas por produto\n",
    "media_vendas_produto = df.groupby('Nome Produto')['Quantidade Vendida'].mean()"
   ]
  },
  {
   "cell_type": "code",
   "execution_count": 150,
   "id": "6c7836c4-2eec-480f-9e54-317b5827ed5d",
   "metadata": {},
   "outputs": [
    {
     "name": "stdout",
     "output_type": "stream",
     "text": [
      "Média de vendas por produto:\n",
      "Nome Produto\n",
      "CALÇA JEANS           10.650000\n",
      "CAMISA GOLA POLO       9.863636\n",
      "CAMISA MANGA LONGA     9.952381\n",
      "CAMISETA BÁSICA        9.363636\n",
      "SAPATO SOCIAL         11.437500\n",
      "Name: Quantidade Vendida, dtype: float64\n"
     ]
    }
   ],
   "source": [
    "# imprimindo a media de vendas por produto\n",
    "print('Média de vendas por produto:')\n",
    "print(media_vendas_produto)"
   ]
  },
  {
   "cell_type": "code",
   "execution_count": 152,
   "id": "8dde8d9d-ba8e-4bb5-b159-1e6319a59f76",
   "metadata": {},
   "outputs": [
    {
     "name": "stdout",
     "output_type": "stream",
     "text": [
      "Valor da célula na segunda çomja e quarta coluna:\n",
      "97.91\n"
     ]
    }
   ],
   "source": [
    "# acessando a célula da segunda linha e quarta coluna\n",
    "valor_celula = df.iloc[1, 3]\n",
    "print('Valor da célula na segunda çomja e quarta coluna:')\n",
    "print(valor_celula)"
   ]
  },
  {
   "cell_type": "code",
   "execution_count": 154,
   "id": "3ef9f9c2-ccad-4993-9212-51b26734bde6",
   "metadata": {},
   "outputs": [],
   "source": [
    "# salvando dataframe modificado em um novo arquivo csv\n",
    "df.to_csv('vendas_modificado.csv', index=False)"
   ]
  },
  {
   "cell_type": "code",
   "execution_count": 170,
   "id": "5da76c38-83a5-4ffd-9d85-001ce6deaf2f",
   "metadata": {},
   "outputs": [],
   "source": [
    "df_grouped = df.groupby('Nome Produto').mean()"
   ]
  },
  {
   "cell_type": "code",
   "execution_count": 172,
   "id": "3349d324-3c48-4ce5-9aca-e3052b1a5fb4",
   "metadata": {},
   "outputs": [
    {
     "data": {
      "image/png": "[encoded data removed]",
      "text/plain": [
       "<Figure size 640x480 with 1 Axes>"
      ]
     },
     "metadata": {},
     "output_type": "display_data"
    }
   ],
   "source": [
    "# gerando gráfico de barras com as médias de vendas por produto\n",
    "plt.bar(df_grouped.index, df_grouped['Quantidade Vendida'])\n",
    "plt.xticks(rotation=45)\n",
    "plt.ylabel('Media de vendas')\n",
    "plt.title('Média de vendas por produto')\n",
    "plt.show()"
   ]
  },
  {
   "cell_type": "code",
   "execution_count": 186,
   "id": "d1f394f9-05c1-4522-90ff-ae691ccc7017",
   "metadata": {},
   "outputs": [
    {
     "name": "stdout",
     "output_type": "stream",
     "text": [
      "                    ID Produto  Quantidade Vendida  Preço Unitario  \\\n",
      "Nome Produto                                                         \n",
      "CALÇA JEANS                2.0           10.650000       58.342000   \n",
      "CAMISA GOLA POLO           2.0            9.863636       57.515455   \n",
      "CAMISA MANGA LONGA         2.0            9.952381       47.237143   \n",
      "CAMISETA BÁSICA            2.0            9.363636       51.854545   \n",
      "SAPATO SOCIAL              2.0           11.437500       50.356875   \n",
      "\n",
      "                                   Data da Venda     Ano       Mês  \n",
      "Nome Produto                                                        \n",
      "CALÇA JEANS        2021-07-11 09:36:00.000000000  2021.0  6.800000  \n",
      "CAMISA GOLA POLO   2021-07-12 13:05:27.272727296  2021.0  6.772727  \n",
      "CAMISA MANGA LONGA 2021-07-09 21:42:51.428571392  2021.0  6.809524  \n",
      "CAMISETA BÁSICA    2021-07-09 01:05:27.272727296  2021.0  6.772727  \n",
      "SAPATO SOCIAL      2021-07-02 15:00:00.000000000  2021.0  6.562500  \n"
     ]
    }
   ],
   "source": [
    "# passo 7: exibir o relatório:\n",
    "print(df_grouped)"
   ]
  },
  {
   "cell_type": "code",
   "execution_count": 188,
   "id": "c6946aa6-0cf3-4bef-b136-1b58ecb4a464",
   "metadata": {},
   "outputs": [
    {
     "data": {
      "text/html": [
       "<div>\n",
       "<style scoped>\n",
       "    .dataframe tbody tr th:only-of-type {\n",
       "        vertical-align: middle;\n",
       "    }\n",
       "\n",
       "    .dataframe tbody tr th {\n",
       "        vertical-align: top;\n",
       "    }\n",
       "\n",
       "    .dataframe thead th {\n",
       "        text-align: right;\n",
       "    }\n",
       "</style>\n",
       "<table border=\"1\" class=\"dataframe\">\n",
       "  <thead>\n",
       "    <tr style=\"text-align: right;\">\n",
       "      <th></th>\n",
       "      <th>ID Produto</th>\n",
       "      <th>Quantidade Vendida</th>\n",
       "      <th>Preço Unitario</th>\n",
       "      <th>Data da Venda</th>\n",
       "      <th>Ano</th>\n",
       "      <th>Mês</th>\n",
       "    </tr>\n",
       "    <tr>\n",
       "      <th>Nome Produto</th>\n",
       "      <th></th>\n",
       "      <th></th>\n",
       "      <th></th>\n",
       "      <th></th>\n",
       "      <th></th>\n",
       "      <th></th>\n",
       "    </tr>\n",
       "  </thead>\n",
       "  <tbody>\n",
       "    <tr>\n",
       "      <th>CALÇA JEANS</th>\n",
       "      <td>2.0</td>\n",
       "      <td>10.650000</td>\n",
       "      <td>58.342000</td>\n",
       "      <td>2021-07-11 09:36:00.000000000</td>\n",
       "      <td>2021.0</td>\n",
       "      <td>6.800000</td>\n",
       "    </tr>\n",
       "    <tr>\n",
       "      <th>CAMISA GOLA POLO</th>\n",
       "      <td>2.0</td>\n",
       "      <td>9.863636</td>\n",
       "      <td>57.515455</td>\n",
       "      <td>2021-07-12 13:05:27.272727296</td>\n",
       "      <td>2021.0</td>\n",
       "      <td>6.772727</td>\n",
       "    </tr>\n",
       "    <tr>\n",
       "      <th>CAMISA MANGA LONGA</th>\n",
       "      <td>2.0</td>\n",
       "      <td>9.952381</td>\n",
       "      <td>47.237143</td>\n",
       "      <td>2021-07-09 21:42:51.428571392</td>\n",
       "      <td>2021.0</td>\n",
       "      <td>6.809524</td>\n",
       "    </tr>\n",
       "    <tr>\n",
       "      <th>CAMISETA BÁSICA</th>\n",
       "      <td>2.0</td>\n",
       "      <td>9.363636</td>\n",
       "      <td>51.854545</td>\n",
       "      <td>2021-07-09 01:05:27.272727296</td>\n",
       "      <td>2021.0</td>\n",
       "      <td>6.772727</td>\n",
       "    </tr>\n",
       "    <tr>\n",
       "      <th>SAPATO SOCIAL</th>\n",
       "      <td>2.0</td>\n",
       "      <td>11.437500</td>\n",
       "      <td>50.356875</td>\n",
       "      <td>2021-07-02 15:00:00.000000000</td>\n",
       "      <td>2021.0</td>\n",
       "      <td>6.562500</td>\n",
       "    </tr>\n",
       "  </tbody>\n",
       "</table>\n",
       "</div>"
      ],
      "text/plain": [
       "                    ID Produto  Quantidade Vendida  Preço Unitario  \\\n",
       "Nome Produto                                                         \n",
       "CALÇA JEANS                2.0           10.650000       58.342000   \n",
       "CAMISA GOLA POLO           2.0            9.863636       57.515455   \n",
       "CAMISA MANGA LONGA         2.0            9.952381       47.237143   \n",
       "CAMISETA BÁSICA            2.0            9.363636       51.854545   \n",
       "SAPATO SOCIAL              2.0           11.437500       50.356875   \n",
       "\n",
       "                                   Data da Venda     Ano       Mês  \n",
       "Nome Produto                                                        \n",
       "CALÇA JEANS        2021-07-11 09:36:00.000000000  2021.0  6.800000  \n",
       "CAMISA GOLA POLO   2021-07-12 13:05:27.272727296  2021.0  6.772727  \n",
       "CAMISA MANGA LONGA 2021-07-09 21:42:51.428571392  2021.0  6.809524  \n",
       "CAMISETA BÁSICA    2021-07-09 01:05:27.272727296  2021.0  6.772727  \n",
       "SAPATO SOCIAL      2021-07-02 15:00:00.000000000  2021.0  6.562500  "
      ]
     },
     "execution_count": 188,
     "metadata": {},
     "output_type": "execute_result"
    }
   ],
   "source": [
    "df_grouped"
   ]
  },
  {
   "cell_type": "code",
   "execution_count": null,
   "id": "5ba4fbbb-1424-4cc8-b6ac-73543cd4d59d",
   "metadata": {},
   "outputs": [],
   "source": []
  }
 ],
 "metadata": {
  "kernelspec": {
   "display_name": "Python 3 (ipykernel)",
   "language": "python",
   "name": "python3"
  },
  "language_info": {
   "codemirror_mode": {
    "name": "ipython",
    "version": 3
   },
   "file_extension": ".py",
   "mimetype": "text/x-python",
   "name": "python",
   "nbconvert_exporter": "python",
   "pygments_lexer": "ipython3",
   "version": "3.13.2"
  }
 },
 "nbformat": 4,
 "nbformat_minor": 5
}
